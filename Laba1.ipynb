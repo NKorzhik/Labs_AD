{
 "cells": [
  {
   "cell_type": "code",
   "execution_count": 1,
   "metadata": {
    "collapsed": true,
    "pycharm": {
     "name": "#%%\n"
    }
   },
   "outputs": [],
   "source": [
    "import numpy as np\n",
    "import pandas as pd\n",
    "import matplotlib.pyplot as plt\n",
    "import random\n",
    "from sklearn.model_selection import train_test_split"
   ]
  },
  {
   "cell_type": "markdown",
   "source": [
    "## Task 1\n",
    "<b> Згенеруйте синтетичний набір точок виду y = ax + b + noise. Візуалізуйте результат за\n",
    "допомогою (matplotlib). Вирішіть задачу лінійної регресії для такого набору точок.\n",
    "Параметри моделі знайдіть за допомогою градієнтного спуску. Порівняйте знайдені\n",
    "параметри із значеннями (a, b). <b>\n",
    "\n"
   ],
   "metadata": {
    "collapsed": false
   }
  },
  {
   "cell_type": "code",
   "execution_count": 2,
   "outputs": [],
   "source": [
    "# Задаем начальные коэффициенты a и b\n",
    "a_start = 3\n",
    "b_start = 3\n"
   ],
   "metadata": {
    "collapsed": false,
    "pycharm": {
     "name": "#%%\n"
    }
   }
  },
  {
   "cell_type": "code",
   "execution_count": 3,
   "outputs": [],
   "source": [
    "# Строим синтетический набор данных x_train and y_train\n",
    "np.random.seed(42)\n",
    "sz = 500\n",
    "noise = np.random.normal(0, 1, sz)\n",
    "x_train = np.random.uniform(0, 1, sz)\n",
    "y_train = a_start + b_start* x_train +  noise"
   ],
   "metadata": {
    "collapsed": false,
    "pycharm": {
     "name": "#%%\n"
    }
   }
  },
  {
   "cell_type": "code",
   "execution_count": 4,
   "outputs": [
    {
     "data": {
      "text/plain": "<Figure size 432x288 with 1 Axes>",
      "image/png": "[encoded data removed]"
     },
     "metadata": {
      "needs_background": "light"
     },
     "output_type": "display_data"
    }
   ],
   "source": [
    "# Изобразим расположение точек созданных точек\n",
    "plt.scatter(x_train,y_train,c='#ef5423', label='points')\n",
    "plt.plot(x_train, a_start * x_train + b_start)\n",
    "plt.xlabel('X_train')\n",
    "plt.ylabel('Y_train')\n",
    "plt.legend()\n",
    "plt.show()\n"
   ],
   "metadata": {
    "collapsed": false,
    "pycharm": {
     "name": "#%%\n"
    }
   }
  },
  {
   "cell_type": "markdown",
   "source": [
    "### Gradient Descent"
   ],
   "metadata": {
    "collapsed": false,
    "pycharm": {
     "name": "#%% md\n"
    }
   }
  },
  {
   "cell_type": "code",
   "execution_count": 5,
   "outputs": [
    {
     "name": "stdout",
     "output_type": "stream",
     "text": [
      "48 38\n",
      "3.0248844727735786 2.963974514616853\n"
     ]
    }
   ],
   "source": [
    "# Рандомные параметры, которые будем использовать для реализации\n",
    "a_curr = random.randint(0,50)\n",
    "b_curr = random.randint(0,50)\n",
    "learning_rate = 0.01 # скорость обучения\n",
    "iterations = 10000 # количество операций\n",
    "\n",
    "print(a_curr,b_curr)\n",
    "\n",
    "for i in range(iterations):\n",
    "    y_pred = a_curr + b_curr * x_train\n",
    "    loss = y_train - y_pred # отклонение результата\n",
    "    a_grad = -2 * loss.mean() # градиент a\n",
    "    b_grad = -2 * (x_train * loss).mean() # градиент b\n",
    "    a_curr = a_curr - learning_rate * a_grad\n",
    "    b_curr = b_curr - learning_rate * b_grad\n",
    "print(a_curr,b_curr)"
   ],
   "metadata": {
    "collapsed": false,
    "pycharm": {
     "name": "#%%\n"
    }
   }
  },
  {
   "cell_type": "code",
   "execution_count": 6,
   "outputs": [
    {
     "name": "stdout",
     "output_type": "stream",
     "text": [
      "Actual result == Expected result\n"
     ]
    }
   ],
   "source": [
    "e = 0.2\n",
    "if abs(a_curr - a_start) < e and abs(b_curr - b_start) < e:\n",
    "    print(\"Actual result == Expected result\")\n",
    "else:\n",
    "    print(\"Error 404\")"
   ],
   "metadata": {
    "collapsed": false,
    "pycharm": {
     "name": "#%%\n"
    }
   }
  },
  {
   "cell_type": "markdown",
   "source": [
    "# Task 2\n",
    "<b>Згенеруйте два синтетичних набори точок на площині, додайте ім мітки класів (0 і 1).\n",
    "Візуалізуйте результат за допомогою (matplotlib). Розділіть дані на класи за допомогою\n",
    "логістичної регресії. Перевірте якість алгоритма за допомогою метрики accuracy (на\n",
    "тестових даних).<b>"
   ],
   "metadata": {
    "collapsed": false,
    "pycharm": {
     "name": "#%% md\n"
    }
   },
   "outputs": [
    {
     "ename": "SyntaxError",
     "evalue": "invalid syntax (Temp/ipykernel_16012/774390460.py, line 2)",
     "output_type": "error",
     "traceback": [
      "\u001B[1;36m  File \u001B[1;32m\"C:\\Users\\nikit\\AppData\\Local\\Temp/ipykernel_16012/774390460.py\"\u001B[1;36m, line \u001B[1;32m2\u001B[0m\n\u001B[1;33m    <b>Згенеруйте два синтетичних набори точок на площині, додайте ім мітки класів (0 і 1).\u001B[0m\n\u001B[1;37m    ^\u001B[0m\n\u001B[1;31mSyntaxError\u001B[0m\u001B[1;31m:\u001B[0m invalid syntax\n"
     ]
    }
   ],
   "execution_count": 8
  },
  {
   "cell_type": "code",
   "execution_count": 7,
   "outputs": [],
   "source": [
    "# Строим 2 синтетических набора данныха x_train, y_train and x_test, y_test\n",
    "np.random.seed(42)\n",
    "sz = 100"
   ],
   "metadata": {
    "collapsed": false,
    "pycharm": {
     "name": "#%%\n"
    }
   }
  },
  {
   "cell_type": "code",
   "execution_count": 8,
   "outputs": [
    {
     "data": {
      "text/plain": "<matplotlib.collections.PathCollection at 0x13563f90>"
     },
     "execution_count": 8,
     "metadata": {},
     "output_type": "execute_result"
    },
    {
     "data": {
      "text/plain": "<Figure size 432x288 with 1 Axes>",
      "image/png": "[encoded data removed]"
     },
     "metadata": {
      "needs_background": "light"
     },
     "output_type": "display_data"
    }
   ],
   "source": [
    "mean_1 = [1, 2]\n",
    "cov_1 = [[1, 0], [0, 1]]\n",
    "x_1 = np.random.multivariate_normal(mean_1, cov_1, sz)\n",
    "plt.scatter(x_1[:, 0], x_1[:, 1], marker = '^', color='coral')\n"
   ],
   "metadata": {
    "collapsed": false,
    "pycharm": {
     "name": "#%%\n"
    }
   }
  },
  {
   "cell_type": "code",
   "execution_count": 9,
   "outputs": [],
   "source": [
    "mean_2 = [4, 5]\n",
    "cov_2 = [[2, 0], [0, 2]]\n",
    "x_2 = np.random.multivariate_normal(mean_2, cov_2, sz)\n"
   ],
   "metadata": {
    "collapsed": false,
    "pycharm": {
     "name": "#%%\n"
    }
   }
  },
  {
   "cell_type": "code",
   "execution_count": 10,
   "outputs": [
    {
     "data": {
      "text/plain": "<matplotlib.collections.PathCollection at 0x146472b0>"
     },
     "execution_count": 10,
     "metadata": {},
     "output_type": "execute_result"
    },
    {
     "data": {
      "text/plain": "<Figure size 432x288 with 1 Axes>",
      "image/png": "[encoded data removed]"
     },
     "metadata": {
      "needs_background": "light"
     },
     "output_type": "display_data"
    }
   ],
   "source": [
    "plt.scatter(x_1[:, 0], x_1[:, 1], marker = '^', color='coral')\n",
    "plt.scatter(x_2[:, 0], x_2[:, 1], marker = 'o', color='indigo')\n"
   ],
   "metadata": {
    "collapsed": false,
    "pycharm": {
     "name": "#%%\n"
    }
   }
  },
  {
   "cell_type": "code",
   "execution_count": 11,
   "outputs": [],
   "source": [
    "# generation of synthetic dataset for classification problem: data(x) and labels\n",
    "X = np.concatenate([x_1, x_2])\n",
    "Y = np.array([0] * sz + [1] *  sz)"
   ],
   "metadata": {
    "collapsed": false,
    "pycharm": {
     "name": "#%%\n"
    }
   }
  },
  {
   "cell_type": "code",
   "execution_count": 12,
   "outputs": [
    {
     "name": "stdout",
     "output_type": "stream",
     "text": [
      "(200, 2)\n",
      "(200,)\n",
      "(150, 2)\n",
      "(150, 2)\n",
      "(150,)\n",
      "(150,)\n"
     ]
    }
   ],
   "source": [
    "#X_train, X_test, Y_train, Y_test = train_test_split(X, Y, test_size = 0.20)\n",
    "\n",
    "X_train, X_test = X[:150,:], X[50:,:]\n",
    "Y_train, Y_test = Y[:150], Y[50:]\n",
    "\n",
    "print(X.shape)\n",
    "print(Y.shape)\n",
    "print(X_test.shape)\n",
    "print(X_train.shape)\n",
    "print(Y_test.shape)\n",
    "print(Y_train.shape)"
   ],
   "metadata": {
    "collapsed": false,
    "pycharm": {
     "name": "#%%\n"
    }
   }
  },
  {
   "cell_type": "markdown",
   "source": [
    "## Logistic Regression\n"
   ],
   "metadata": {
    "collapsed": false,
    "pycharm": {
     "name": "#%% md\n"
    }
   }
  },
  {
   "cell_type": "code",
   "execution_count": 13,
   "outputs": [],
   "source": [
    "class LogisticRegression:\n",
    "    def __init__( self, learning_rate, iterations ) :\n",
    "        self.learning_rate = learning_rate\n",
    "        self.iterations = iterations\n",
    "\n",
    "    # Function for model training\n",
    "    def fit( self, X, Y ) :\n",
    "        # no_of_training_examples, no_of_features\n",
    "        self.m, self.n = X.shape\n",
    "        # weight initialization\n",
    "        self.W = np.zeros( self.n )\n",
    "        self.b = 0\n",
    "        self.X = X\n",
    "        self.Y = Y\n",
    "        # gradient descent learning\n",
    "        for i in range( self.iterations ) :\n",
    "            self.update_weights()\n",
    "        return self\n",
    "    # Helper function to update weights in gradient descent\n",
    "    def update_weights( self ) :\n",
    "        A = 1 / ( 1 + np.exp( - ( self.X.dot( self.W ) + self.b ) ) )\n",
    "        # calculate gradients\n",
    "        tmp = ( A - self.Y.T )\n",
    "        tmp = np.reshape( tmp, self.m )\n",
    "        dW = np.dot( self.X.T, tmp ) / self.m\n",
    "        db = np.sum( tmp ) / self.m\n",
    "        # update weights\n",
    "        self.W = self.W - self.learning_rate * dW\n",
    "        self.b = self.b - self.learning_rate * db\n",
    "        return self\n",
    "    # Hypothetical function  h( x )\n",
    "    def predict( self, X ) :\n",
    "        Z = 1 / ( 1 + np.exp( - ( X.dot( self.W ) + self.b ) ) )\n",
    "        Y = np.where( Z > 0.5, 1, 0 )\n",
    "        return Y"
   ],
   "metadata": {
    "collapsed": false,
    "pycharm": {
     "name": "#%%\n"
    }
   }
  },
  {
   "cell_type": "code",
   "execution_count": 14,
   "outputs": [
    {
     "data": {
      "text/plain": "<__main__.LogisticRegression at 0x13521cd0>"
     },
     "execution_count": 14,
     "metadata": {},
     "output_type": "execute_result"
    }
   ],
   "source": [
    "learning_rate = 0.01 # скорость обучения\n",
    "iterations = 10000 # количество операций\n",
    "model = LogisticRegression( learning_rate, iterations )\n",
    "model.fit( X_train, Y_train )"
   ],
   "metadata": {
    "collapsed": false,
    "pycharm": {
     "name": "#%%\n"
    }
   }
  },
  {
   "cell_type": "code",
   "execution_count": 15,
   "outputs": [],
   "source": [
    "Y_pred = model.predict( X_test )"
   ],
   "metadata": {
    "collapsed": false,
    "pycharm": {
     "name": "#%%\n"
    }
   }
  },
  {
   "cell_type": "code",
   "execution_count": 16,
   "outputs": [],
   "source": [
    "correctly_classified = 0"
   ],
   "metadata": {
    "collapsed": false,
    "pycharm": {
     "name": "#%%\n"
    }
   }
  },
  {
   "cell_type": "code",
   "execution_count": 17,
   "outputs": [
    {
     "name": "stdout",
     "output_type": "stream",
     "text": [
      "Accuracy on test set by our model       :   96.0\n"
     ]
    }
   ],
   "source": [
    "count = 0\n",
    "for count in range( np.size( Y_pred ) ) :\n",
    "    if Y_test[count] == Y_pred[count] :\n",
    "        correctly_classified = correctly_classified + 1\n",
    "    count = count + 1\n",
    "\n",
    "print( \"Accuracy on test set by our model       :  \", (\n",
    "      correctly_classified / count ) * 100 )"
   ],
   "metadata": {
    "collapsed": false,
    "pycharm": {
     "name": "#%%\n"
    }
   }
  },
  {
   "cell_type": "code",
   "execution_count": 18,
   "outputs": [
    {
     "data": {
      "text/plain": "Text(0.5, 0, 'first variable')"
     },
     "execution_count": 18,
     "metadata": {},
     "output_type": "execute_result"
    },
    {
     "data": {
      "text/plain": "<Figure size 432x432 with 1 Axes>",
      "image/png": "[encoded data removed]"
     },
     "metadata": {
      "needs_background": "light"
     },
     "output_type": "display_data"
    }
   ],
   "source": [
    "plt.figure(figsize=(6, 6))\n",
    "plt.scatter(X_test[:, 0],  X_test[:, 1], c = Y_test)\n",
    "plt.ylabel(\"second variable\")\n",
    "plt.xlabel(\"first variable\")"
   ],
   "metadata": {
    "collapsed": false,
    "pycharm": {
     "name": "#%%\n"
    }
   }
  },
  {
   "cell_type": "code",
   "execution_count": 19,
   "outputs": [
    {
     "data": {
      "text/plain": "Text(0.5, 0, 'first variable')"
     },
     "execution_count": 19,
     "metadata": {},
     "output_type": "execute_result"
    },
    {
     "data": {
      "text/plain": "<Figure size 432x432 with 1 Axes>",
      "image/png": "[encoded data removed]"
     },
     "metadata": {
      "needs_background": "light"
     },
     "output_type": "display_data"
    }
   ],
   "source": [
    "plt.figure(figsize=(6, 6))\n",
    "plt.scatter(X_test[:, 0], Y_test, c = Y_test)\n",
    "plt.ylabel(\"result\")\n",
    "plt.xlabel(\"first variable\")"
   ],
   "metadata": {
    "collapsed": false,
    "pycharm": {
     "name": "#%%\n"
    }
   }
  },
  {
   "cell_type": "code",
   "execution_count": 19,
   "outputs": [],
   "source": [],
   "metadata": {
    "collapsed": false,
    "pycharm": {
     "name": "#%%\n"
    }
   }
  }
 ],
 "metadata": {
  "kernelspec": {
   "display_name": "Python 3",
   "language": "python",
   "name": "python3"
  },
  "language_info": {
   "codemirror_mode": {
    "name": "ipython",
    "version": 2
   },
   "file_extension": ".py",
   "mimetype": "text/x-python",
   "name": "python",
   "nbconvert_exporter": "python",
   "pygments_lexer": "ipython2",
   "version": "2.7.6"
  }
 },
 "nbformat": 4,
 "nbformat_minor": 0
}