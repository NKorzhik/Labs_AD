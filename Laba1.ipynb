{
 "cells": [
  {
   "cell_type": "code",
   "execution_count": 9,
   "metadata": {
    "collapsed": true,
    "pycharm": {
     "name": "#%%\n"
    }
   },
   "outputs": [],
   "source": [
    "import numpy as np\n",
    "import matplotlib.pyplot as plt\n",
    "import random"
   ]
  },
  {
   "cell_type": "markdown",
   "source": [
    "## Task 1\n",
    "<b> Згенеруйте синтетичний набір точок виду y = ax + b + noise. Візуалізуйте результат за\n",
    "допомогою (matplotlib). Вирішіть задачу лінійної регресії для такого набору точок.\n",
    "Параметри моделі знайдіть за допомогою градієнтного спуску. Порівняйте знайдені\n",
    "параметри із значеннями (a, b). <b>"
   ],
   "metadata": {
    "collapsed": false
   }
  },
  {
   "cell_type": "markdown",
   "source": [
    "<b>CostFunction:  </b>\n",
    "\\begin{equation}\n",
    "   J(\\theta) = 1/2m \\sum_{i=1}^{m} (h(\\theta)^{(i)} - y^{(i)})^2\n",
    "\\end{equation}\n",
    "\n",
    "<b>Gradient: </b>\n",
    "\\begin{equation}\n",
    "\\frac{\\partial J(\\theta)}{\\partial \\theta_j} = 1/m\\sum_{i=1}^{m}(h(\\theta^{(i)} - y^{(i)}).X_j^{(i)}\n",
    "\\end{equation}\n"
   ],
   "metadata": {
    "collapsed": false,
    "pycharm": {
     "name": "#%% md\n"
    }
   }
  },
  {
   "cell_type": "code",
   "execution_count": 10,
   "outputs": [],
   "source": [
    "# Задаем начальные коэффициенты a и b\n",
    "a_start = 3\n",
    "b_start = 3\n"
   ],
   "metadata": {
    "collapsed": false,
    "pycharm": {
     "name": "#%%\n"
    }
   }
  },
  {
   "cell_type": "code",
   "execution_count": 11,
   "outputs": [],
   "source": [
    "# Строим синтетический набор данных x_train and y_train\n",
    "np.random.seed(42)\n",
    "sz = 500\n",
    "noise = np.random.normal(0, 1, sz)\n",
    "x_train = np.random.uniform(0, 1, sz)\n",
    "y_train = a_start + b_start* x_train +  noise"
   ],
   "metadata": {
    "collapsed": false,
    "pycharm": {
     "name": "#%%\n"
    }
   }
  },
  {
   "cell_type": "code",
   "execution_count": 12,
   "outputs": [
    {
     "data": {
      "text/plain": "<Figure size 432x288 with 1 Axes>",
      "image/png": "[encoded data removed]"
     },
     "metadata": {
      "needs_background": "light"
     },
     "output_type": "display_data"
    }
   ],
   "source": [
    "# Изобразим расположение точек созданных точек\n",
    "plt.scatter(x_train,y_train,c='lightpink', label='points')\n",
    "plt.plot(x_train, a_start * x_train + b_start)\n",
    "plt.xlabel('X_train')\n",
    "plt.ylabel('Y_train')\n",
    "plt.legend()\n",
    "plt.show()\n"
   ],
   "metadata": {
    "collapsed": false,
    "pycharm": {
     "name": "#%%\n"
    }
   }
  },
  {
   "cell_type": "markdown",
   "source": [
    "### Gradient Descent"
   ],
   "metadata": {
    "collapsed": false,
    "pycharm": {
     "name": "#%% md\n"
    }
   }
  },
  {
   "cell_type": "code",
   "execution_count": 13,
   "outputs": [
    {
     "ename": "TypeError",
     "evalue": "'int' object is not callable",
     "output_type": "error",
     "traceback": [
      "\u001B[1;31m---------------------------------------------------------------------------\u001B[0m",
      "\u001B[1;31mTypeError\u001B[0m                                 Traceback (most recent call last)",
      "\u001B[1;32m~\\AppData\\Local\\Temp/ipykernel_6580/2483902163.py\u001B[0m in \u001B[0;36m<module>\u001B[1;34m\u001B[0m\n\u001B[0;32m      5\u001B[0m \u001B[0miterations\u001B[0m \u001B[1;33m=\u001B[0m \u001B[1;36m10000\u001B[0m \u001B[1;31m# количество операций\u001B[0m\u001B[1;33m\u001B[0m\u001B[1;33m\u001B[0m\u001B[0m\n\u001B[0;32m      6\u001B[0m \u001B[1;33m\u001B[0m\u001B[0m\n\u001B[1;32m----> 7\u001B[1;33m \u001B[0mprint\u001B[0m\u001B[1;33m(\u001B[0m\u001B[1;34m\"Выбранные параметры \"\u001B[0m\u001B[1;33m,\u001B[0m\u001B[1;34m' a = '\u001B[0m\u001B[1;33m,\u001B[0m\u001B[0ma_curr\u001B[0m\u001B[1;33m,\u001B[0m\u001B[1;34m' b = '\u001B[0m\u001B[1;33m,\u001B[0m \u001B[0mb_curr\u001B[0m\u001B[1;33m)\u001B[0m\u001B[1;33m\u001B[0m\u001B[1;33m\u001B[0m\u001B[0m\n\u001B[0m\u001B[0;32m      8\u001B[0m \u001B[1;33m\u001B[0m\u001B[0m\n\u001B[0;32m      9\u001B[0m \u001B[1;32mfor\u001B[0m \u001B[0mi\u001B[0m \u001B[1;32min\u001B[0m \u001B[0mrange\u001B[0m\u001B[1;33m(\u001B[0m\u001B[0miterations\u001B[0m\u001B[1;33m)\u001B[0m\u001B[1;33m:\u001B[0m\u001B[1;33m\u001B[0m\u001B[1;33m\u001B[0m\u001B[0m\n",
      "\u001B[1;31mTypeError\u001B[0m: 'int' object is not callable"
     ]
    }
   ],
   "source": [
    "# Рандомные параметры, которые будем использовать для реализации\n",
    "a_curr = random.randint(0,50)\n",
    "b_curr = random.randint(0,50)\n",
    "learning_rate = 0.01 # скорость обучения\n",
    "iterations = 10000 # количество операций\n",
    "\n",
    "print(\"Выбранные параметры \",' a = ',a_curr,' b = ', b_curr)\n",
    "\n",
    "for i in range(iterations):\n",
    "    y_pred = a_curr + b_curr * x_train\n",
    "    loss = y_train - y_pred # отклонение результата\n",
    "    a_grad = -2 * loss.mean()\n",
    "    b_grad = -2 * (x_train * loss).mean()\n",
    "    a_curr = a_curr - learning_rate * a_grad\n",
    "    b_curr = b_curr - learning_rate * b_grad\n",
    "print(\"Начальные пармаметры для генерации датасета \",' a = ',a_start,' b = ', b_start)\n",
    "print(\"Полученные параметры \",' a = ',a_curr,' b = ', b_curr)"
   ],
   "metadata": {
    "collapsed": false,
    "pycharm": {
     "name": "#%%\n"
    }
   }
  },
  {
   "cell_type": "code",
   "execution_count": null,
   "outputs": [],
   "source": [
    "e = 0.2\n",
    "if abs(a_curr - a_start) < e and abs(b_curr - b_start) < e:\n",
    "    print(\"Actual result == Expected result\")\n",
    "else:\n",
    "    print(\"Error 404\")\n"
   ],
   "metadata": {
    "collapsed": false,
    "pycharm": {
     "name": "#%%\n"
    }
   }
  },
  {
   "cell_type": "markdown",
   "source": [
    "# Task 2\n",
    "<b>Згенеруйте два синтетичних набори точок на площині, додайте ім мітки класів (0 і 1).\n",
    "Візуалізуйте результат за допомогою (matplotlib). Розділіть дані на класи за допомогою\n",
    "логістичної регресії. Перевірте якість алгоритма за допомогою метрики accuracy (на\n",
    "тестових даних).<b>"
   ],
   "metadata": {
    "collapsed": false,
    "pycharm": {
     "name": "#%% md\n"
    }
   },
   "outputs": [
    {
     "ename": "SyntaxError",
     "evalue": "invalid syntax (Temp/ipykernel_16012/774390460.py, line 2)",
     "output_type": "error",
     "traceback": [
      "\u001B[1;36m  File \u001B[1;32m\"C:\\Users\\nikit\\AppData\\Local\\Temp/ipykernel_16012/774390460.py\"\u001B[1;36m, line \u001B[1;32m2\u001B[0m\n\u001B[1;33m    <b>Згенеруйте два синтетичних набори точок на площині, додайте ім мітки класів (0 і 1).\u001B[0m\n\u001B[1;37m    ^\u001B[0m\n\u001B[1;31mSyntaxError\u001B[0m\u001B[1;31m:\u001B[0m invalid syntax\n"
     ]
    }
   ],
   "execution_count": 8
  },
  {
   "cell_type": "code",
   "execution_count": null,
   "outputs": [],
   "source": [
    "# Строим 2 синтетических набора данныха x_train, y_train and x_test, y_test\n",
    "np.random.seed(42)\n",
    "sz = 100"
   ],
   "metadata": {
    "collapsed": false,
    "pycharm": {
     "name": "#%%\n"
    }
   }
  },
  {
   "cell_type": "code",
   "execution_count": null,
   "outputs": [],
   "source": [
    "mean_1 = [1, 2]\n",
    "cov_1 = [[1, 0], [0, 1]]\n",
    "x_1 = np.random.multivariate_normal(mean_1, cov_1, sz)\n",
    "plt.scatter(x_1[:, 0], x_1[:, 1], marker = '^', color='lightpink')\n"
   ],
   "metadata": {
    "collapsed": false,
    "pycharm": {
     "name": "#%%\n"
    }
   }
  },
  {
   "cell_type": "code",
   "execution_count": null,
   "outputs": [],
   "source": [
    "mean_2 = [4, 5]\n",
    "cov_2 = [[2, 0], [0, 2]]\n",
    "x_2 = np.random.multivariate_normal(mean_2, cov_2, sz)\n"
   ],
   "metadata": {
    "collapsed": false,
    "pycharm": {
     "name": "#%%\n"
    }
   }
  },
  {
   "cell_type": "code",
   "execution_count": null,
   "outputs": [],
   "source": [
    "plt.scatter(x_1[:, 0], x_1[:, 1], marker = '^', color='lightpink')\n",
    "plt.scatter(x_2[:, 0], x_2[:, 1], marker = 'o', color='dodgerblue')\n"
   ],
   "metadata": {
    "collapsed": false,
    "pycharm": {
     "name": "#%%\n"
    }
   }
  },
  {
   "cell_type": "code",
   "execution_count": null,
   "outputs": [],
   "source": [
    "# generation of synthetic dataset for classification problem: data(x) and labels\n",
    "X = np.concatenate([x_1, x_2])\n",
    "Y = np.array([0] * sz + [1] *  sz)"
   ],
   "metadata": {
    "collapsed": false,
    "pycharm": {
     "name": "#%%\n"
    }
   }
  },
  {
   "cell_type": "code",
   "execution_count": null,
   "outputs": [],
   "source": [
    "#random.shuffle(Y)\n",
    "X_train, X_test = X[:150,:], X[50:,:]\n",
    "Y_train, Y_test = Y[:150], Y[50:]\n",
    "\n",
    "print(X.shape)\n",
    "print(Y.shape)\n",
    "print(X_test.shape)\n",
    "print(X_train.shape)\n",
    "print(Y_test.shape)\n",
    "print(Y_train.shape)"
   ],
   "metadata": {
    "collapsed": false,
    "pycharm": {
     "name": "#%%\n"
    }
   }
  },
  {
   "cell_type": "markdown",
   "source": [
    "## Logistic Regression\n"
   ],
   "metadata": {
    "collapsed": false,
    "pycharm": {
     "name": "#%% md\n"
    }
   }
  },
  {
   "cell_type": "code",
   "execution_count": null,
   "outputs": [],
   "source": [
    "class LogisticRegression:\n",
    "    def __init__( self, learning_rate, iterations ) :\n",
    "        self.learning_rate = learning_rate\n",
    "        self.iterations = iterations\n",
    "\n",
    "    def fit( self, X, Y ) :\n",
    "        self.m, self.n = X.shape\n",
    "        self.W = np.zeros( self.n )\n",
    "        self.b = 0\n",
    "        self.X = X\n",
    "        self.Y = Y\n",
    "        for i in range( self.iterations ) :\n",
    "            A = 1 / ( 1 + np.exp( - ( self.X.dot( self.W ) + self.b ) ) )\n",
    "            #счмиаем градиент\n",
    "            tmp = ( A - self.Y.T )\n",
    "            tmp = np.reshape( tmp, self.m )\n",
    "            dW = np.dot( self.X.T, tmp ) / self.m\n",
    "            db = np.sum( tmp ) / self.m\n",
    "            self.W = self.W - self.learning_rate * dW\n",
    "            self.b = self.b - self.learning_rate * db\n",
    "        return self\n",
    "    def predict( self, X ) :\n",
    "        Z = 1 / ( 1 + np.exp( - ( X.dot( self.W ) + self.b ) ) )\n",
    "        Y = np.where( Z > 0.5, 1, 0 )\n",
    "        return Y"
   ],
   "metadata": {
    "collapsed": false,
    "pycharm": {
     "name": "#%%\n"
    }
   }
  },
  {
   "cell_type": "code",
   "execution_count": null,
   "outputs": [],
   "source": [
    "learning_rate = 0.01 # скорость обучения\n",
    "iterations = 10000 # количество операций\n",
    "model = LogisticRegression( learning_rate, iterations )\n",
    "model.fit( X_train, Y_train )"
   ],
   "metadata": {
    "collapsed": false,
    "pycharm": {
     "name": "#%%\n"
    }
   }
  },
  {
   "cell_type": "code",
   "execution_count": null,
   "outputs": [],
   "source": [
    "Y_pred = model.predict( X_test )\n"
   ],
   "metadata": {
    "collapsed": false,
    "pycharm": {
     "name": "#%%\n"
    }
   }
  },
  {
   "cell_type": "code",
   "execution_count": null,
   "outputs": [],
   "source": [
    "def accuracy(Y_test,Y_pred):\n",
    "    correctly_classified = 0\n",
    "    count = 0\n",
    "    for count in range( np.size( Y_pred ) ) :\n",
    "        if Y_test[count] == Y_pred[count] :\n",
    "            correctly_classified = correctly_classified + 1\n",
    "        count = count + 1\n",
    "    print( \"Точность: \", (correctly_classified / count ) * 100 )"
   ],
   "metadata": {
    "collapsed": false,
    "pycharm": {
     "name": "#%%\n"
    }
   }
  },
  {
   "cell_type": "code",
   "execution_count": null,
   "outputs": [],
   "source": [
    "accuracy(Y_test,Y_pred)"
   ],
   "metadata": {
    "collapsed": false,
    "pycharm": {
     "name": "#%%\n"
    }
   }
  },
  {
   "cell_type": "code",
   "execution_count": 21,
   "outputs": [
    {
     "ename": "TypeError",
     "evalue": "'int' object is not callable",
     "output_type": "error",
     "traceback": [
      "\u001B[1;31m---------------------------------------------------------------------------\u001B[0m",
      "\u001B[1;31mTypeError\u001B[0m                                 Traceback (most recent call last)",
      "\u001B[1;32m~\\AppData\\Local\\Temp/ipykernel_6580/110591012.py\u001B[0m in \u001B[0;36m<module>\u001B[1;34m\u001B[0m\n\u001B[1;32m----> 1\u001B[1;33m \u001B[0mprint\u001B[0m\u001B[1;33m(\u001B[0m\u001B[1;36m2\u001B[0m\u001B[1;33m+\u001B[0m\u001B[1;36m3\u001B[0m\u001B[1;33m)\u001B[0m\u001B[1;33m\u001B[0m\u001B[1;33m\u001B[0m\u001B[0m\n\u001B[0m\u001B[0;32m      2\u001B[0m \u001B[0mprint\u001B[0m\u001B[1;33m(\u001B[0m\u001B[1;34m\"2+3\"\u001B[0m\u001B[1;33m)\u001B[0m\u001B[1;33m\u001B[0m\u001B[1;33m\u001B[0m\u001B[0m\n",
      "\u001B[1;31mTypeError\u001B[0m: 'int' object is not callable"
     ]
    }
   ],
   "source": [],
   "metadata": {
    "collapsed": false,
    "pycharm": {
     "name": "#%%\n"
    }
   }
  }
 ],
 "metadata": {
  "kernelspec": {
   "display_name": "Python 3",
   "language": "python",
   "name": "python3"
  },
  "language_info": {
   "codemirror_mode": {
    "name": "ipython",
    "version": 2
   },
   "file_extension": ".py",
   "mimetype": "text/x-python",
   "name": "python",
   "nbconvert_exporter": "python",
   "pygments_lexer": "ipython2",
   "version": "2.7.6"
  }
 },
 "nbformat": 4,
 "nbformat_minor": 0
}